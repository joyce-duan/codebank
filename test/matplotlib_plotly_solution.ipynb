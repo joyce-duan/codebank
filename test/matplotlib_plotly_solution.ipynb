{
 "cells": [
  {
   "cell_type": "code",
   "execution_count": 148,
   "metadata": {
    "collapsed": false
   },
   "outputs": [
    {
     "name": "stdout",
     "output_type": "stream",
     "text": [
      "Populating the interactive namespace from numpy and matplotlib\n"
     ]
    }
   ],
   "source": [
    "\n",
    "import numpy as np\n",
    "import scipy as sp\n",
    "import matplotlib.pyplot as plt\n",
    "import pandas as pd\n",
    "import plotly.plotly as py\n",
    "from plotly.graph_objs import *\n",
    "%pylab inline"
   ]
  },
  {
   "cell_type": "code",
   "execution_count": 150,
   "metadata": {
    "collapsed": false
   },
   "outputs": [
    {
     "name": "stdout",
     "output_type": "stream",
     "text": [
      "expense.csv\n",
      "Populating the interactive namespace from numpy and matplotlib\n"
     ]
    }
   ],
   "source": [
    "! ls ../data\n",
    "%pylab inline\n"
   ]
  },
  {
   "cell_type": "code",
   "execution_count": 5,
   "metadata": {
    "collapsed": false
   },
   "outputs": [
    {
     "data": {
      "text/html": [
       "<div style=\"max-height:1000px;max-width:1500px;overflow:auto;\">\n",
       "<table border=\"1\" class=\"dataframe\">\n",
       "  <thead>\n",
       "    <tr style=\"text-align: right;\">\n",
       "      <th></th>\n",
       "      <th>age</th>\n",
       "      <th>expense</th>\n",
       "      <th>gender</th>\n",
       "    </tr>\n",
       "  </thead>\n",
       "  <tbody>\n",
       "    <tr>\n",
       "      <th>0</th>\n",
       "      <td> 33</td>\n",
       "      <td> 151.629329</td>\n",
       "      <td> F</td>\n",
       "    </tr>\n",
       "    <tr>\n",
       "      <th>1</th>\n",
       "      <td> 26</td>\n",
       "      <td>  88.002924</td>\n",
       "      <td> F</td>\n",
       "    </tr>\n",
       "    <tr>\n",
       "      <th>2</th>\n",
       "      <td> 31</td>\n",
       "      <td> 538.996985</td>\n",
       "      <td> F</td>\n",
       "    </tr>\n",
       "    <tr>\n",
       "      <th>3</th>\n",
       "      <td> 30</td>\n",
       "      <td> 143.505742</td>\n",
       "      <td> F</td>\n",
       "    </tr>\n",
       "    <tr>\n",
       "      <th>4</th>\n",
       "      <td> 24</td>\n",
       "      <td>  35.997773</td>\n",
       "      <td> M</td>\n",
       "    </tr>\n",
       "  </tbody>\n",
       "</table>\n",
       "</div>"
      ],
      "text/plain": [
       "   age     expense gender\n",
       "0   33  151.629329      F\n",
       "1   26   88.002924      F\n",
       "2   31  538.996985      F\n",
       "3   30  143.505742      F\n",
       "4   24   35.997773      M"
      ]
     },
     "execution_count": 5,
     "metadata": {},
     "output_type": "execute_result"
    }
   ],
   "source": [
    "df = pd.read_csv('../data/expense.csv')\n",
    "df.head()"
   ]
  },
  {
   "cell_type": "code",
   "execution_count": 95,
   "metadata": {
    "collapsed": false
   },
   "outputs": [
    {
     "data": {
      "text/html": [
       "<iframe id=\"igraph\" scrolling=\"no\" style=\"border:none;\"seamless=\"seamless\" src=\"https://plot.ly/~joycexduan/3.embed\" height=\"525\" width=\"100%\"></iframe>"
      ],
      "text/plain": [
       "<plotly.tools.PlotlyDisplay object>"
      ]
     },
     "execution_count": 95,
     "metadata": {},
     "output_type": "execute_result"
    }
   ],
   "source": [
    "# plot scatter and fitted line\n",
    "fig = figure()\n",
    "plt.scatter(df.age,df.expense, marker = 'o', alpha =0.3)\n",
    "fit = np.polyfit(df.age, df.expense, 1)\n",
    "fitfunc = np.poly1d(fit)\n",
    "#print fitfunc([50,60])\n",
    "plt.plot(df.age, fitfunc(list(df.age)), color='r')\n",
    "plt.ylim(0,2000)\n",
    "plt.ylabel('expenses')\n",
    "plt.xlabel('age')\n",
    "py.iplot_mpl(fig)"
   ]
  },
  {
   "cell_type": "code",
   "execution_count": 152,
   "metadata": {
    "collapsed": false
   },
   "outputs": [
    {
     "data": {
      "text/html": [
       "<iframe id=\"igraph\" scrolling=\"no\" style=\"border:none;\"seamless=\"seamless\" src=\"https://plot.ly/~joycexduan/75.embed\" height=\"525\" width=\"100%\"></iframe>"
      ],
      "text/plain": [
       "<plotly.tools.PlotlyDisplay object>"
      ]
     },
     "execution_count": 152,
     "metadata": {},
     "output_type": "execute_result"
    }
   ],
   "source": [
    "trace1 = Scatter(\n",
    "    x=df.age,\n",
    "    y=df.expense,\n",
    "    mode = 'markers',\n",
    "    marker=Marker(\n",
    "        color='b' ,\n",
    "        opacity=0.4\n",
    "                 )\n",
    ")\n",
    "trace2 = Scatter(\n",
    "    x=df.age,\n",
    "    y=fitfunc(list(df.age)),\n",
    "    mode='lines',\n",
    "    line=Line(\n",
    "        color='red'\n",
    "    )\n",
    ")\n",
    "data = Data([trace1,trace2])\n",
    "layout = Layout(\n",
    "    title='Age vs. Expense',\n",
    "    xaixs = XAxis(\n",
    "        title='Age'\n",
    "    ),\n",
    "    yaxis = YAxis(\n",
    "        title = 'Expense'\n",
    "    ),\n",
    "    showlegend=False\n",
    ")\n",
    "fig = Figure(data=data, layout=layout)\n",
    "py.iplot(fig)"
   ]
  },
  {
   "cell_type": "code",
   "execution_count": 35,
   "metadata": {
    "collapsed": false
   },
   "outputs": [
    {
     "name": "stdout",
     "output_type": "stream",
     "text": [
      "\n"
     ]
    },
    {
     "data": {
      "image/png": "[encoded data removed]",
      "text/plain": [
       "<matplotlib.figure.Figure at 0x10a0b0d90>"
      ]
     },
     "metadata": {},
     "output_type": "display_data"
    }
   ],
   "source": [
    "\n",
    "plt.hist(df.expense, bins = 20,normed=True)\n",
    "plt.xlabel('expense')\n",
    "plt.ylabel('frequency')\n",
    "print ''"
   ]
  },
  {
   "cell_type": "code",
   "execution_count": 153,
   "metadata": {
    "collapsed": false
   },
   "outputs": [
    {
     "data": {
      "text/html": [
       "<iframe id=\"igraph\" scrolling=\"no\" style=\"border:none;\"seamless=\"seamless\" src=\"https://plot.ly/~joycexduan/76.embed\" height=\"525\" width=\"100%\"></iframe>"
      ],
      "text/plain": [
       "<plotly.tools.PlotlyDisplay object>"
      ]
     },
     "execution_count": 153,
     "metadata": {},
     "output_type": "execute_result"
    }
   ],
   "source": [
    "data = Data([\n",
    "    Histogram(\n",
    "        x=df.expense,\n",
    "        histnorm = 'probability density',\n",
    "        nbinsx = 20,\n",
    "        marker = Marker(color ='blue')\n",
    "        )\n",
    "    ])\n",
    "layout = Layout(\n",
    "    xaxis = XAxis(\n",
    "        title='expense'\n",
    "    ),\n",
    "    yaxis = YAxis(\n",
    "        title='frequency'\n",
    "    )\n",
    ")\n",
    "fig2 = Figure(data=data, layout=layout)\n",
    "py.iplot(fig2)\n"
   ]
  },
  {
   "cell_type": "code",
   "execution_count": 67,
   "metadata": {
    "collapsed": false
   },
   "outputs": [
    {
     "name": "stdout",
     "output_type": "stream",
     "text": [
      "M    0.361818\n",
      "F    0.638182\n",
      "dtype: float64\n",
      "M    0.684211\n",
      "F    0.315789\n",
      "dtype: float64\n"
     ]
    }
   ],
   "source": [
    "cnt_gender = (df.groupby('gender').size()/len(df.index))\n",
    "sorted_index = sorted(cnt_gender.index,reverse=True)\n",
    "cnt_gender = cnt_gender[sorted_index]\n",
    "cnt_gender_gt800 = df[df.expense>800].groupby('gender').size()/len(df[df.expense>800].index)\n",
    "cnt_gender_gt800 = cnt_gender_gt800[sorted_index]\n",
    "print cnt_gender\n",
    "print cnt_gender_gt800"
   ]
  },
  {
   "cell_type": "code",
   "execution_count": 93,
   "metadata": {
    "collapsed": false
   },
   "outputs": [
    {
     "data": {
      "image/png": "[encoded data removed]",
      "text/plain": [
       "<matplotlib.figure.Figure at 0x10d7c5e10>"
      ]
     },
     "metadata": {},
     "output_type": "display_data"
    }
   ],
   "source": [
    "f, (ax_l, ax_r) = plt.subplots(1,2,figsize=(8,5))\n",
    "f.subplots_adjust(left=0.15)\n",
    "cnt_gender_gt800.plot(kind='bar', ax = ax_l, colors='br', alpha=0.3)\n",
    "ax_l.set_ylabel('% Male/Female expense > 800')\n",
    "ax_l.set_xticklabels(sorted_index,rotation =0)\n",
    "cnt_gender.plot(kind='bar', ax = ax_r,colors='br', alpha=0.3)\n",
    "ax_r.set_ylabel('% Male/Female')\n",
    "ax_r.set_xticklabels(sorted_index, rotation=0)\n",
    "plt.tight_layout()"
   ]
  },
  {
   "cell_type": "code",
   "execution_count": 164,
   "metadata": {
    "collapsed": false
   },
   "outputs": [
    {
     "data": {
      "text/html": [
       "<iframe id=\"igraph\" scrolling=\"no\" style=\"border:none;\"seamless=\"seamless\" src=\"https://plot.ly/~joycexduan/78.embed\" height=\"525\" width=\"100%\"></iframe>"
      ],
      "text/plain": [
       "<plotly.tools.PlotlyDisplay object>"
      ]
     },
     "execution_count": 164,
     "metadata": {},
     "output_type": "execute_result"
    }
   ],
   "source": [
    "trace1 = Bar(\n",
    "    x = list(cnt_gender_gt800.index),\n",
    "    y = list(cnt_gender_gt800.values)\n",
    ")\n",
    "layout = Layout(\n",
    "    yaxis = YAxis(\n",
    "        title = '% Male/Female - expense > $800'\n",
    "        ),\n",
    "    showlegend=False\n",
    ")\n",
    "data = Data([trace1])\n",
    "fig3 = Figure(data=data, layout=layout)\n",
    "py.iplot(fig3)"
   ]
  },
  {
   "cell_type": "code",
   "execution_count": 158,
   "metadata": {
    "collapsed": false
   },
   "outputs": [
    {
     "name": "stdout",
     "output_type": "stream",
     "text": [
      "['M', 'F'] [0.68421052631578949, 0.31578947368421051]\n"
     ]
    }
   ],
   "source": [
    "print list(cnt_gender_gt800.index),\n",
    "print list(cnt_gender_gt800.values)"
   ]
  },
  {
   "cell_type": "code",
   "execution_count": 186,
   "metadata": {
    "collapsed": false
   },
   "outputs": [
    {
     "data": {
      "text/html": [
       "<iframe id=\"igraph\" scrolling=\"no\" style=\"border:none;\"seamless=\"seamless\" src=\"https://plot.ly/~joycexduan/95.embed\" height=\"525\" width=\"100%\"></iframe>"
      ],
      "text/plain": [
       "<plotly.tools.PlotlyDisplay object>"
      ]
     },
     "execution_count": 186,
     "metadata": {},
     "output_type": "execute_result"
    }
   ],
   "source": [
    "def make_trace(x, y, col):\n",
    "    return  Bar(\\\n",
    "    x = x,\\\n",
    "    y = y,\n",
    "    opacity = 0.4,\n",
    "    marker = Marker(\n",
    "        color = col\n",
    "        )       \n",
    "               )\n",
    "x = cnt_gender.index\n",
    "y = cnt_gender.values\n",
    "y2 = cnt_gender_gt800.values\n",
    "c = ['red','blue']\n",
    "trace1 = [make_trace(x[i],y[i], c[i]) for i in range(2)]\n",
    "#trace2 = [make_trace(x[i],y2[i], c[i]) for i in range(2)]\n",
    "#data = Data([trace1, trace2])\n",
    "data=Data(trace1)\n",
    "layout = Layout(\n",
    "    yaxis = YAxis(\n",
    "        title = '% Male/Female - expense '\n",
    "        ),\n",
    "    #yaxis2 = YAxis(\n",
    "    #title = '% Male/Female - expense > $800'\n",
    "    #    ),\n",
    "    showlegend=False\n",
    ")\n",
    "f = Figure(data = data, layout= layout)\n",
    "py.iplot(f)"
   ]
  },
  {
   "cell_type": "code",
   "execution_count": null,
   "metadata": {
    "collapsed": true
   },
   "outputs": [],
   "source": []
  }
 ],
 "metadata": {
  "kernelspec": {
   "display_name": "Python 2",
   "language": "python",
   "name": "python2"
  },
  "language_info": {
   "codemirror_mode": {
    "name": "ipython",
    "version": 2
   },
   "file_extension": ".py",
   "mimetype": "text/x-python",
   "name": "python",
   "nbconvert_exporter": "python",
   "pygments_lexer": "ipython2",
   "version": "2.7.9"
  }
 },
 "nbformat": 4,
 "nbformat_minor": 0
}
